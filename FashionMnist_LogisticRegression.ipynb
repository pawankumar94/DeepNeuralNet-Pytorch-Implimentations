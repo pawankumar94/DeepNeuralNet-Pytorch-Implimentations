{
  "nbformat": 4,
  "nbformat_minor": 0,
  "metadata": {
    "colab": {
      "name": "FashionMnist_LogisticRegression.ipynb",
      "provenance": []
    },
    "kernelspec": {
      "name": "python3",
      "display_name": "Python 3"
    }
  },
  "cells": [
    {
      "cell_type": "code",
      "metadata": {
        "id": "-JZ7LAIrDjG4"
      },
      "source": [
        "import torch \n",
        "import torchvision #contains utilities to deal with image dataset \n",
        "from torchvision.datasets import MNIST,FashionMNIST\n",
        "import torchvision.transforms as transforms #tansforming the dataset into tensors\n",
        "from torch.utils.data.sampler import SubsetRandomSampler \n",
        "import matplotlib.pyplot as plt\n",
        "from torch.utils.data import random_split\n",
        "from torch.utils.data import DataLoader\n",
        "import numpy as np\n",
        "import torch.nn as nn\n",
        "import torch.nn.functional as F"
      ],
      "execution_count": 2,
      "outputs": []
    },
    {
      "cell_type": "code",
      "metadata": {
        "id": "b14Sjm7jDxtr"
      },
      "source": [
        "dataset = FashionMNIST(root='/content/sample_data/Datasets',download= True)\n",
        "dataset_Mnist = MNIST(root='/content/sample_data/Datasets',download= True)"
      ],
      "execution_count": 3,
      "outputs": []
    },
    {
      "cell_type": "code",
      "metadata": {
        "id": "gSoChjKrEX22",
        "outputId": "a45b888e-8aa0-4ce9-b211-a910062ade86",
        "colab": {
          "base_uri": "https://localhost:8080/",
          "height": 319
        }
      },
      "source": [
        "print(len(dataset))\n",
        "print(len(dataset_Mnist))\n",
        "image,label = dataset[10]\n",
        "plt.imshow(image,cmap='gray')"
      ],
      "execution_count": 4,
      "outputs": [
        {
          "output_type": "stream",
          "text": [
            "60000\n",
            "60000\n"
          ],
          "name": "stdout"
        },
        {
          "output_type": "execute_result",
          "data": {
            "text/plain": [
              "<matplotlib.image.AxesImage at 0x7ff31260e710>"
            ]
          },
          "metadata": {
            "tags": []
          },
          "execution_count": 4
        },
        {
          "output_type": "display_data",
          "data": {
            "image/png": "[encoded data removed]",
            "text/plain": [
              "<Figure size 432x288 with 1 Axes>"
            ]
          },
          "metadata": {
            "tags": [],
            "needs_background": "light"
          }
        }
      ]
    },
    {
      "cell_type": "code",
      "metadata": {
        "id": "ASZ-DK5SExEp",
        "outputId": "600e9c57-8109-45b9-f550-3173e06eae18",
        "colab": {
          "base_uri": "https://localhost:8080/",
          "height": 35
        }
      },
      "source": [
        "transformed_dataset = FashionMNIST('/content/sample_data/Datasets',train= True, transform= transforms.ToTensor())\n",
        "training_dataset , validation_dataset = random_split(transformed_dataset,[50000,10000])\n",
        "testing_dataset = FashionMNIST('/content/sample_data/Datasets',train= False, transform= transforms.ToTensor())\n",
        "print(len(training_dataset),len(testing_dataset))"
      ],
      "execution_count": 5,
      "outputs": [
        {
          "output_type": "stream",
          "text": [
            "50000 10000\n"
          ],
          "name": "stdout"
        }
      ]
    },
    {
      "cell_type": "code",
      "metadata": {
        "id": "DTnJh9vBGvtQ"
      },
      "source": [
        "batch_size = 100 \n",
        "input_size = 28*28\n",
        "class_label = 10 \n",
        "loss_func = F.cross_entropy\n",
        "# The shuffle is set to True for training data to load different images each time at each epoch. This will make model more robust and avoid over/underfitting.\n",
        "train_loader = DataLoader(training_dataset,batch_size=batch_size,shuffle= True )\n",
        "val_loader = DataLoader(validation_dataset,batch_size=batch_size)\n",
        "test_loader = DataLoader(testing_dataset,batch_size=batch_size)"
      ],
      "execution_count": 6,
      "outputs": []
    },
    {
      "cell_type": "code",
      "metadata": {
        "id": "Hbd1wcMZHr6O",
        "outputId": "d2909028-bb81-46f6-baf8-5ed2264aa3e9",
        "colab": {
          "base_uri": "https://localhost:8080/",
          "height": 54
        }
      },
      "source": [
        "for image,labl in train_loader:\n",
        "  print(image.shape)\n",
        "  print(label)\n",
        "  break\n"
      ],
      "execution_count": 7,
      "outputs": [
        {
          "output_type": "stream",
          "text": [
            "torch.Size([100, 1, 28, 28])\n",
            "0\n"
          ],
          "name": "stdout"
        }
      ]
    },
    {
      "cell_type": "code",
      "metadata": {
        "id": "hWLCTucDLNGu"
      },
      "source": [
        "class TrialModel(nn.Module):\n",
        "  def __init__(self):\n",
        "    super().__init__()\n",
        "    self.linear = nn.Linear(input_size,class_label)\n",
        "\n",
        "  def forward(self,xb):\n",
        "    xb = xb.reshape(-1,784)\n",
        "    out = self.linear(xb) # matrix multiplicattion and addition of bias\n",
        "    return out\n",
        "\n",
        "model = TrialModel()"
      ],
      "execution_count": 8,
      "outputs": []
    },
    {
      "cell_type": "code",
      "metadata": {
        "id": "aZca1SapL0S9",
        "outputId": "941566b0-225b-41c8-ce57-543ff441df1a",
        "colab": {
          "base_uri": "https://localhost:8080/",
          "height": 145
        }
      },
      "source": [
        "print(model.linear.weight.shape,model.linear.bias.shape)\n",
        "for image, labels in train_loader:\n",
        "  outputs = model(image)\n",
        "  break\n",
        "print(outputs.shape )\n",
        "print('Sample outputs :\\n', outputs[:2].data)"
      ],
      "execution_count": 9,
      "outputs": [
        {
          "output_type": "stream",
          "text": [
            "torch.Size([10, 784]) torch.Size([10])\n",
            "torch.Size([100, 10])\n",
            "Sample outputs :\n",
            " tensor([[ 0.3269,  0.2604,  0.2146, -0.3353, -0.1574,  0.4743, -0.0636, -0.1491,\n",
            "         -0.3189, -0.4345],\n",
            "        [ 0.1245,  0.2928,  0.0799, -0.5800, -0.1999, -0.1656,  0.2610, -0.3543,\n",
            "         -0.0100, -0.2639]])\n"
          ],
          "name": "stdout"
        }
      ]
    },
    {
      "cell_type": "code",
      "metadata": {
        "id": "0da5oKUHNsqb",
        "outputId": "f5f714c1-55c4-4b85-80d2-7dd586626985",
        "colab": {
          "base_uri": "https://localhost:8080/",
          "height": 108
        }
      },
      "source": [
        "probability = F.softmax(outputs,dim=1)\n",
        "print('SampleProbability', probability[:2].data)\n",
        "print(torch.sum(probability[0]).item())\n",
        "\n"
      ],
      "execution_count": 10,
      "outputs": [
        {
          "output_type": "stream",
          "text": [
            "SampleProbability tensor([[0.1350, 0.1263, 0.1206, 0.0696, 0.0832, 0.1564, 0.0913, 0.0838, 0.0708,\n",
            "         0.0630],\n",
            "        [0.1187, 0.1405, 0.1135, 0.0587, 0.0858, 0.0888, 0.1361, 0.0736, 0.1038,\n",
            "         0.0805]])\n",
            "1.0\n"
          ],
          "name": "stdout"
        }
      ]
    },
    {
      "cell_type": "code",
      "metadata": {
        "id": "Ve3w-fDNPJqJ",
        "outputId": "1d9ebf59-53b9-4f3a-91e5-11e58d75035f",
        "colab": {
          "base_uri": "https://localhost:8080/",
          "height": 326
        }
      },
      "source": [
        "maxprob,pred = torch.max(probability,dim = 1)\n",
        "print(maxprob)\n",
        "print(pred)"
      ],
      "execution_count": 11,
      "outputs": [
        {
          "output_type": "stream",
          "text": [
            "tensor([0.1564, 0.1405, 0.1642, 0.1480, 0.1895, 0.1756, 0.1237, 0.1335, 0.1302,\n",
            "        0.1437, 0.1675, 0.1217, 0.1327, 0.1892, 0.1224, 0.1391, 0.1460, 0.1640,\n",
            "        0.1657, 0.1522, 0.1431, 0.1413, 0.1210, 0.1391, 0.1349, 0.1495, 0.1395,\n",
            "        0.1158, 0.1564, 0.1542, 0.1650, 0.1251, 0.1630, 0.1376, 0.1455, 0.1484,\n",
            "        0.1117, 0.1788, 0.1332, 0.1309, 0.1353, 0.1535, 0.1407, 0.1405, 0.1340,\n",
            "        0.1768, 0.1447, 0.1430, 0.1355, 0.1752, 0.1206, 0.1228, 0.1420, 0.1217,\n",
            "        0.1445, 0.1569, 0.1343, 0.1528, 0.1419, 0.1169, 0.1555, 0.1833, 0.1185,\n",
            "        0.1181, 0.1394, 0.1446, 0.1427, 0.1446, 0.1717, 0.1195, 0.1600, 0.1611,\n",
            "        0.1180, 0.1413, 0.1902, 0.1217, 0.1557, 0.1597, 0.1330, 0.1548, 0.1460,\n",
            "        0.1495, 0.1455, 0.1321, 0.1282, 0.1566, 0.1587, 0.1622, 0.1309, 0.1829,\n",
            "        0.1314, 0.1651, 0.1369, 0.1619, 0.1785, 0.1347, 0.1308, 0.1321, 0.1636,\n",
            "        0.1338], grad_fn=<MaxBackward0>)\n",
            "tensor([5, 1, 1, 6, 1, 5, 1, 1, 1, 0, 1, 6, 1, 1, 1, 1, 0, 0, 1, 5, 6, 1, 6, 1,\n",
            "        1, 2, 0, 0, 1, 5, 1, 5, 5, 1, 0, 5, 8, 1, 0, 0, 0, 1, 5, 1, 0, 1, 0, 2,\n",
            "        0, 1, 2, 6, 0, 1, 5, 1, 6, 0, 1, 1, 1, 1, 2, 2, 1, 5, 5, 1, 1, 5, 1, 1,\n",
            "        2, 5, 5, 5, 1, 5, 5, 1, 6, 1, 1, 2, 6, 5, 6, 1, 0, 1, 5, 5, 1, 0, 1, 1,\n",
            "        0, 2, 1, 1])\n"
          ],
          "name": "stdout"
        }
      ]
    },
    {
      "cell_type": "code",
      "metadata": {
        "id": "EZI0vUrqPsAB",
        "outputId": "82eb8f94-e6f9-464f-968f-2fed8c220a4c",
        "colab": {
          "base_uri": "https://localhost:8080/",
          "height": 108
        }
      },
      "source": [
        "print(labels)"
      ],
      "execution_count": 12,
      "outputs": [
        {
          "output_type": "stream",
          "text": [
            "tensor([3, 7, 9, 7, 4, 2, 7, 3, 5, 0, 4, 7, 6, 2, 5, 0, 3, 3, 4, 3, 7, 5, 5, 8,\n",
            "        5, 4, 1, 0, 6, 3, 8, 6, 2, 7, 6, 4, 7, 9, 1, 1, 1, 9, 1, 9, 1, 8, 0, 4,\n",
            "        1, 9, 8, 5, 3, 0, 3, 9, 5, 1, 8, 2, 4, 8, 3, 1, 5, 4, 0, 4, 3, 6, 6, 6,\n",
            "        2, 8, 2, 5, 9, 8, 1, 0, 9, 2, 9, 2, 7, 8, 9, 2, 1, 4, 2, 4, 3, 0, 8, 5,\n",
            "        3, 4, 8, 5])\n"
          ],
          "name": "stdout"
        }
      ]
    },
    {
      "cell_type": "code",
      "metadata": {
        "id": "aW2J0F1qQATU",
        "outputId": "7def4417-b517-4fe7-8cd6-845a9965b120",
        "colab": {
          "base_uri": "https://localhost:8080/",
          "height": 54
        }
      },
      "source": [
        "def accuracy(output,labels):\n",
        "  _,prediction = torch.max(outputs,dim = 1)\n",
        "  return torch.tensor(torch.sum(prediction == labels).item()/len(labels))\n",
        "\n",
        "print('Accuracy',accuracy(outputs,labels))\n",
        "loss_function = F.cross_entropy\n",
        "loss = loss_function(outputs,labels)\n",
        "print('Loss',loss)\n",
        "\n",
        "learning_rate = 0.001\n",
        "optimizer = torch.optim.SGD(model.parameters(),lr=learning_rate)"
      ],
      "execution_count": 13,
      "outputs": [
        {
          "output_type": "stream",
          "text": [
            "Accuracy tensor(0.0700)\n",
            "Loss tensor(2.3489, grad_fn=<NllLossBackward>)\n"
          ],
          "name": "stdout"
        }
      ]
    },
    {
      "cell_type": "code",
      "metadata": {
        "id": "lIrSZWkeTxLB"
      },
      "source": [
        "def loss_batch(model,loss_func,xb,yb,optimizer = None , metric = None):\n",
        "  prediction = model(xb)\n",
        "  loss = loss_func(prediction,yb)\n",
        "\n",
        "  if optimizer is not None:\n",
        "    loss.backward()\n",
        "    optimizer.step()\n",
        "    optimizer.zero_grad()\n",
        "\n",
        "  metric_result = None\n",
        "  if metric is not None:\n",
        "    metric_result = metric(prediction , yb)\n",
        "\n",
        "  return loss.item() , len(xb) , metric_result"
      ],
      "execution_count": 14,
      "outputs": []
    },
    {
      "cell_type": "code",
      "metadata": {
        "id": "njXoU2lrZhlw",
        "outputId": "ca092ccd-8bfa-4cd7-d060-7db5129c9e89",
        "colab": {
          "base_uri": "https://localhost:8080/",
          "height": 54
        }
      },
      "source": [
        "for images , labels in val_loader:\n",
        "  print(images.shape)\n",
        "  print(labels.shape)\n",
        "  break"
      ],
      "execution_count": 15,
      "outputs": [
        {
          "output_type": "stream",
          "text": [
            "torch.Size([100, 1, 28, 28])\n",
            "torch.Size([100])\n"
          ],
          "name": "stdout"
        }
      ]
    },
    {
      "cell_type": "code",
      "metadata": {
        "id": "P3GSDz_mVEi_"
      },
      "source": [
        "def evaluate(model,loss_function,validation_dl,metric = None):\n",
        "  with torch.no_grad():\n",
        "    results = [loss_batch(model,loss_func,xb,yb,metric=metric) for xb,yb in validation_dl]\n",
        "    loss , nums, metrics = zip(*results)\n",
        "    #total size of the dataset \n",
        "    total_size = np.sum(nums)\n",
        "    avg_loss = np.sum(np.multiply(loss , nums)) / total_size\n",
        "    avg_metric = None\n",
        "    if metric is not None:\n",
        "      avg_metric = np.sum(np.multiply(metrics , nums))/ total_size\n",
        "  return avg_loss  , avg_metric , total_size\n",
        "   "
      ],
      "execution_count": 16,
      "outputs": []
    },
    {
      "cell_type": "code",
      "metadata": {
        "id": "WhfOHKrdYEI5",
        "outputId": "2b1b9c68-fcbf-45ad-b637-12943801ef2d",
        "colab": {
          "base_uri": "https://localhost:8080/",
          "height": 35
        }
      },
      "source": [
        "val_loss , val_acc , total =  evaluate(model,loss_function,validation_dl = val_loader,metric= accuracy)\n",
        "print('Loss:{:.4f}, Accuracy:{:.4f}'.format(val_loss,val_acc))"
      ],
      "execution_count": 17,
      "outputs": [
        {
          "output_type": "stream",
          "text": [
            "Loss:2.3448, Accuracy:0.1048\n"
          ],
          "name": "stdout"
        }
      ]
    },
    {
      "cell_type": "code",
      "metadata": {
        "id": "IYwlHfd3o0d0"
      },
      "source": [
        "epoch_list = []\n",
        "accuracy_list= []\n",
        "\n",
        "def fit(epochs , model , loss_fn , opt , train_dl , validation_dl , metric = None):\n",
        "  for epoch in range(epochs):\n",
        "    #training\n",
        "    epoch_list.append(epoch)\n",
        "    for xb,yb in train_dl:\n",
        "      loss,_,_ = loss_batch(model,loss_fn,xb,yb,opt) # takes the data batch by batch and perform gradient descent\n",
        "\n",
        "    #validation\n",
        "    result = evaluate(model,loss_fn,validation_dl,metric)\n",
        "    val_loss , val_accuracy , total = result\n",
        "    accuracy_list.append(val_accuracy)  \n",
        "    \n",
        "    if metric is None:\n",
        "      print('Epoch [{}/{}, Loss: {:.4f}'.format(epoch+1 , epochs, val_loss))\n",
        "    else:\n",
        "      print('Epoch [{}/{}, Loss: {:.4f}, {}:{:.4f} '.format(epoch+1 , epochs, val_loss,metric.__name__,val_accuracy))"
      ],
      "execution_count": 18,
      "outputs": []
    },
    {
      "cell_type": "code",
      "metadata": {
        "id": "7HKcQwejImaJ"
      },
      "source": [
        "\n",
        "def accuracy(outputs,labels):\n",
        "  _,preds = torch.max(outputs,dim=1)\n",
        "  return torch.sum(preds == labels).item()/ len(preds)"
      ],
      "execution_count": 19,
      "outputs": []
    },
    {
      "cell_type": "code",
      "metadata": {
        "id": "qN8eyY6FA4HP"
      },
      "source": [
        "model = TrialModel()\n",
        "optimizer = torch.optim.SGD(model.parameters(),lr= learning_rate)"
      ],
      "execution_count": 20,
      "outputs": []
    },
    {
      "cell_type": "code",
      "metadata": {
        "id": "h2UpoHeuBK_Z",
        "outputId": "60012de5-70cc-4aa2-e3c3-a12de51c6712",
        "colab": {
          "base_uri": "https://localhost:8080/",
          "height": 108
        }
      },
      "source": [
        "fit(5,model,loss_function,optimizer,train_loader,val_loader,metric=accuracy)"
      ],
      "execution_count": 21,
      "outputs": [
        {
          "output_type": "stream",
          "text": [
            "Epoch [1/5, Loss: 1.6086, accuracy:0.6521 \n",
            "Epoch [2/5, Loss: 1.3154, accuracy:0.6689 \n",
            "Epoch [3/5, Loss: 1.1586, accuracy:0.6764 \n",
            "Epoch [4/5, Loss: 1.0614, accuracy:0.6889 \n",
            "Epoch [5/5, Loss: 0.9950, accuracy:0.6993 \n"
          ],
          "name": "stdout"
        }
      ]
    },
    {
      "cell_type": "code",
      "metadata": {
        "id": "9KSLXV2sKYba",
        "outputId": "b602b3ac-0427-4e90-ff89-129161f7779d",
        "colab": {
          "base_uri": "https://localhost:8080/",
          "height": 35
        }
      },
      "source": [
        "print(accuracy_list)"
      ],
      "execution_count": 22,
      "outputs": [
        {
          "output_type": "stream",
          "text": [
            "[0.6521, 0.6689, 0.6764, 0.6889, 0.6993]\n"
          ],
          "name": "stdout"
        }
      ]
    },
    {
      "cell_type": "code",
      "metadata": {
        "id": "Ezil5xL8LWfu",
        "outputId": "76ab2fe4-fa4a-429c-9d79-398da2a0fb8b",
        "colab": {
          "base_uri": "https://localhost:8080/",
          "height": 295
        }
      },
      "source": [
        "#plt.scatter(epoch_list, accuracy_list, c='r', label='data')\n",
        "plt.plot(epoch_list, accuracy_list,label = 'Accuracy' )\n",
        "plt.xlabel('epochs')\n",
        "plt.ylabel('Accuracy')\n",
        "plt.title('Accuracy vs epochs')\n",
        "plt.legend()\n",
        "plt.show()"
      ],
      "execution_count": 23,
      "outputs": [
        {
          "output_type": "display_data",
          "data": {
            "image/png": "[encoded data removed]",
            "text/plain": [
              "<Figure size 432x288 with 1 Axes>"
            ]
          },
          "metadata": {
            "tags": [],
            "needs_background": "light"
          }
        }
      ]
    },
    {
      "cell_type": "code",
      "metadata": {
        "id": "ropUaANYNdYu",
        "outputId": "afd45fbc-2bd3-4e69-d877-90f88f5d313d",
        "colab": {
          "base_uri": "https://localhost:8080/",
          "height": 301
        }
      },
      "source": [
        "img,label = testing_dataset[0]\n",
        "plt.imshow(img[0],cmap = 'gray')\n",
        "print(img.shape)\n",
        "print(img.unsqueeze(0).shape)  "
      ],
      "execution_count": 24,
      "outputs": [
        {
          "output_type": "stream",
          "text": [
            "torch.Size([1, 28, 28])\n",
            "torch.Size([1, 1, 28, 28])\n"
          ],
          "name": "stdout"
        },
        {
          "output_type": "display_data",
          "data": {
            "image/png": "[encoded data removed]",
            "text/plain": [
              "<Figure size 432x288 with 1 Axes>"
            ]
          },
          "metadata": {
            "tags": [],
            "needs_background": "light"
          }
        }
      ]
    },
    {
      "cell_type": "code",
      "metadata": {
        "id": "D0kzKFx6Oa8r"
      },
      "source": [
        "# def predict_img(img,model):\n",
        "#   xb = img.unsqueeze(0)\n",
        "#   yb = model(xb)\n",
        "#   _,preds = torch.max(yb,dim = 1)\n",
        "#   return preds[0].item"
      ],
      "execution_count": 25,
      "outputs": []
    },
    {
      "cell_type": "code",
      "metadata": {
        "id": "jopBUBW5Oubp",
        "outputId": "eb1c684e-a768-4b56-eb63-a4d8406f1e3d",
        "colab": {
          "base_uri": "https://localhost:8080/",
          "height": 283
        }
      },
      "source": [
        "# img , label = testing_dataset[0]\n",
        "# plt.imshow(img[0],cmap = 'gray')\n",
        "# print('Label: ',label, 'Predicted', predict_img(img,model))\n"
      ],
      "execution_count": 27,
      "outputs": [
        {
          "output_type": "stream",
          "text": [
            "Label:  9 Predicted <built-in method item of Tensor object at 0x7ff311e53b88>\n"
          ],
          "name": "stdout"
        },
        {
          "output_type": "display_data",
          "data": {
            "image/png": "[encoded data removed]",
            "text/plain": [
              "<Figure size 432x288 with 1 Axes>"
            ]
          },
          "metadata": {
            "tags": [],
            "needs_background": "light"
          }
        }
      ]
    },
    {
      "cell_type": "code",
      "metadata": {
        "id": "Kz-2XP-APlr5",
        "outputId": "947daf30-87da-464f-ce28-d945710f6b14",
        "colab": {
          "base_uri": "https://localhost:8080/",
          "height": 249
        }
      },
      "source": [
        "import numpy as np\n",
        "def im_convert(tensor):\n",
        "  image = tensor.cpu().clone().detach().numpy()\n",
        "  image = image.transpose(1, 2, 0)\n",
        "  image = image * np.array((0.5, 0.5, 0.5)) + np.array((0.5, 0.5, 0.5))\n",
        "  image = image.clip(0, 1)\n",
        "  return image\n",
        "\n",
        "\n",
        "classes = ('T-shirt/top', 'Trouser', 'Pullover', 'Dress', 'Coat', 'Sandal', 'Shirt', 'Sneaker', 'Bag', 'Ankle boot' )\n",
        "\n",
        "dataiter = iter(test_loader)\n",
        "images, labels = dataiter.next()\n",
        "output = model(images)\n",
        "_, preds = torch.max(output, 1)\n",
        "\n",
        "fig = plt.figure(figsize=(25, 4))\n",
        "\n",
        "for idx in np.arange(20):\n",
        "  ax = fig.add_subplot(2, 10, idx+1, xticks=[], yticks=[])\n",
        "  plt.imshow(im_convert(images[idx]))\n",
        "  ax.set_title(\"{} ({})\".format(str(classes[preds[idx].item()]), str(classes[labels[idx].item()])), color=(\"green\" if preds[idx]==labels[idx] else \"red\"))"
      ],
      "execution_count": 28,
      "outputs": [
        {
          "output_type": "display_data",
          "data": {
            "image/png": "[encoded data removed]",
            "text/plain": [
              "<Figure size 1800x288 with 20 Axes>"
            ]
          },
          "metadata": {
            "tags": []
          }
        }
      ]
    },
    {
      "cell_type": "code",
      "metadata": {
        "id": "rz-rFdHzJHke"
      },
      "source": [
        ""
      ],
      "execution_count": null,
      "outputs": []
    },
    {
      "cell_type": "code",
      "metadata": {
        "id": "cIct5HBHOi6T"
      },
      "source": [
        ""
      ],
      "execution_count": null,
      "outputs": []
    }
  ]
}